{
 "cells": [
  {
   "cell_type": "code",
   "execution_count": 1,
   "metadata": {},
   "outputs": [],
   "source": [
    "import torch\n",
    "import torch.nn as nn\n",
    "import torch.nn.functional as F\n",
    "import torchvision\n",
    "from torchvision import datasets, models, transforms\n",
    "from torch.utils.data import DataLoader\n",
    "import torch.optim as optim\n",
    "from tqdm import tqdm\n",
    "import os\n",
    "from PIL import Image\n",
    "import cv2\n",
    "import matplotlib.pyplot as plt\n",
    "from tqdm import tqdm\n",
    "path = '/Users/ppangppang/Documents/dev/deeplearning_with_pytorch/data/'"
   ]
  },
  {
   "cell_type": "markdown",
   "metadata": {},
   "source": [
    "## Dataset custom"
   ]
  },
  {
   "cell_type": "markdown",
   "metadata": {},
   "source": [
    "### RGB 평균 추출"
   ]
  },
  {
   "cell_type": "markdown",
   "metadata": {},
   "source": [
    "- 모든 폴더마다 파일 읽어오기\n",
    "- 모든 파일들 rgb mean, std 구하기"
   ]
  },
  {
   "cell_type": "code",
   "execution_count": 2,
   "metadata": {},
   "outputs": [],
   "source": [
    "# class_ = os.listdir(path+'/train/')\n",
    "# try:\n",
    "#     class_.remove('.DS_Store')\n",
    "# except:\n",
    "#     pass\n",
    "\n",
    "# files=[]\n",
    "# imgs=[]\n",
    "# for cls in tqdm(class_):\n",
    "#     file = os.listdir(path+f'/train/{cls}')\n",
    "#     files.extend(file)\n",
    "\n",
    "#     for f in tqdm(files):\n",
    "#         img = cv2.imread(path+f'/train/{cls}/{f}')\n",
    "#         img_r = (img[:,:,0]/255.).mean()\n",
    "#         img_g = (img[:,:,1]/255.).mean()\n",
    "#         img_b = (img[:,:,2]/255.).mean()\n",
    "#         imgs.append(img)\n",
    "#         files=[]\n",
    "\n",
    "# files_cnt = len(files)"
   ]
  },
  {
   "cell_type": "code",
   "execution_count": null,
   "metadata": {},
   "outputs": [],
   "source": []
  },
  {
   "cell_type": "code",
   "execution_count": 3,
   "metadata": {},
   "outputs": [
    {
     "name": "stdout",
     "output_type": "stream",
     "text": [
      "학습 데이터셋 크기: 600\n",
      "테스트 데이터셋 크기: 150\n",
      "클래스 수: 3\n",
      "클래스: ['galaxy', 'glass', 'iphone']\n"
     ]
    }
   ],
   "source": [
    "## rgb평균 확인해서 normalize하는 기능도 해보기\n",
    "\n",
    "transforms_train = transforms.Compose([\n",
    "    transforms.Resize((224, 224)),\n",
    "    # transforms.RandomHorizontalFlip(), # 데이터 증진(augmentation)\n",
    "    transforms.ToTensor(),\n",
    "    transforms.Normalize([0.485, 0.456, 0.406], [0.229, 0.224, 0.225]) # 정규화(normalization)\n",
    "])\n",
    "\n",
    "transforms_test = transforms.Compose([\n",
    "    transforms.Resize((224, 224)),\n",
    "    transforms.ToTensor(),\n",
    "    transforms.Normalize([0.485, 0.456, 0.406], [0.229, 0.224, 0.225])\n",
    "])\n",
    "\n",
    "train_datasets = datasets.ImageFolder(os.path.join(path, 'train'), transforms_train)\n",
    "test_datasets = datasets.ImageFolder(os.path.join(path, 'test'), transforms_test)\n",
    "\n",
    "train_dataloader = DataLoader(train_datasets, batch_size=4, shuffle=True, num_workers=4, drop_last=True)\n",
    "test_dataloader = DataLoader(test_datasets, batch_size=4, shuffle=False, num_workers=4)\n",
    "\n",
    "print('학습 데이터셋 크기:', len(train_datasets))\n",
    "print('테스트 데이터셋 크기:', len(test_datasets))\n",
    "\n",
    "class_names = train_datasets.classes\n",
    "print('클래스 수:', len(class_names))\n",
    "print('클래스:', class_names)"
   ]
  },
  {
   "cell_type": "markdown",
   "metadata": {},
   "source": [
    "## CNN"
   ]
  },
  {
   "cell_type": "code",
   "execution_count": 25,
   "metadata": {},
   "outputs": [
    {
     "name": "stdout",
     "output_type": "stream",
     "text": [
      "CNN(\n",
      "  (conv1): Conv2d(3, 6, kernel_size=(5, 5), stride=(1, 1))\n",
      "  (pool1): MaxPool2d(kernel_size=2, stride=2, padding=0, dilation=1, ceil_mode=False)\n",
      "  (conv2): Conv2d(6, 12, kernel_size=(5, 5), stride=(1, 1))\n",
      "  (pool2): MaxPool2d(kernel_size=2, stride=2, padding=0, dilation=1, ceil_mode=False)\n",
      "  (fc1): Linear(in_features=300, out_features=50, bias=True)\n",
      "  (fc2): Linear(in_features=50, out_features=3, bias=True)\n",
      ")\n"
     ]
    }
   ],
   "source": [
    "class CNN(nn.Module):\n",
    "    def __init__(self):\n",
    "        super(CNN, self).__init__()\n",
    "        self.conv1 = nn.Conv2d(in_channels=3, out_channels=6, kernel_size=5, stride=1) ## 32 -> 28\n",
    "        self.pool1 = nn.MaxPool2d(2,2) ## 28->14\n",
    "        self.conv2 = nn.Conv2d(in_channels=6, out_channels=12, kernel_size=5, stride=1) ## 14-> 10\n",
    "        self.pool2 = nn.MaxPool2d(2,2) ## 10->5\n",
    "        self.fc1 = nn.Linear(12*5*5, 50)\n",
    "        self.fc2 = nn.Linear(50,3)\n",
    "\n",
    "    def forward(self,x):\n",
    "        x = self.pool1(F.relu(self.conv1(x)))\n",
    "        x = self.pool2(F.relu(self.conv2(x)))\n",
    "\n",
    "        x = x.view(-1, 12*5*5)\n",
    "        x = F.relu(self.fc1(x))\n",
    "        x = F.relu(self.fc2(x)) \n",
    "\n",
    "        return x\n",
    "\n",
    "print(CNN())"
   ]
  },
  {
   "cell_type": "code",
   "execution_count": 26,
   "metadata": {},
   "outputs": [],
   "source": [
    "cnn = CNN()\n",
    "criterion = nn.CrossEntropyLoss()\n",
    "optimizer = optim.Adam(cnn.parameters(), lr=1e-3)"
   ]
  },
  {
   "cell_type": "code",
   "execution_count": 27,
   "metadata": {},
   "outputs": [
    {
     "name": "stderr",
     "output_type": "stream",
     "text": [
      "100%|██████████| 150/150 [00:21<00:00,  6.89it/s] \n",
      " 20%|██        | 1/5 [00:21<01:27, 21.77s/it]"
     ]
    },
    {
     "name": "stdout",
     "output_type": "stream",
     "text": [
      "epoch1 : loss 1.007309015194575\n"
     ]
    },
    {
     "name": "stderr",
     "output_type": "stream",
     "text": [
      "100%|██████████| 150/150 [00:21<00:00,  6.87it/s] \n",
      " 40%|████      | 2/5 [00:43<01:05, 21.81s/it]"
     ]
    },
    {
     "name": "stdout",
     "output_type": "stream",
     "text": [
      "epoch2 : loss 0.8364158415794373\n"
     ]
    },
    {
     "name": "stderr",
     "output_type": "stream",
     "text": [
      "100%|██████████| 150/150 [00:21<00:00,  6.86it/s] \n",
      " 60%|██████    | 3/5 [01:05<00:43, 21.84s/it]"
     ]
    },
    {
     "name": "stdout",
     "output_type": "stream",
     "text": [
      "epoch3 : loss 0.7463068726658821\n"
     ]
    },
    {
     "name": "stderr",
     "output_type": "stream",
     "text": [
      "100%|██████████| 150/150 [00:21<00:00,  6.84it/s] \n",
      " 80%|████████  | 4/5 [01:27<00:21, 21.87s/it]"
     ]
    },
    {
     "name": "stdout",
     "output_type": "stream",
     "text": [
      "epoch4 : loss 0.6837194767594338\n"
     ]
    },
    {
     "name": "stderr",
     "output_type": "stream",
     "text": [
      "100%|██████████| 150/150 [00:21<00:00,  6.90it/s] \n",
      "100%|██████████| 5/5 [01:49<00:00, 21.83s/it]"
     ]
    },
    {
     "name": "stdout",
     "output_type": "stream",
     "text": [
      "epoch5 : loss 0.6128644086917241\n"
     ]
    },
    {
     "name": "stderr",
     "output_type": "stream",
     "text": [
      "\n"
     ]
    }
   ],
   "source": [
    "loss_=[]\n",
    "n = len(train_dataloader)\n",
    "\n",
    "for epoch in tqdm(range(5)):\n",
    "\n",
    "    train_loss = 0.0\n",
    "\n",
    "    for i, data in enumerate(tqdm(train_dataloader, 0)):\n",
    "\n",
    "        inputs, labels = data[0], data[1]\n",
    "\n",
    "        optimizer.zero_grad()\n",
    "\n",
    "        outputs = cnn(inputs)\n",
    "        loss = criterion(outputs, labels)\n",
    "        loss.backward()\n",
    "        optimizer.step()\n",
    "\n",
    "        train_loss += loss.item()\n",
    "    loss_.append(train_loss / n)\n",
    "    print(f'epoch{epoch+1} : loss {train_loss/n}')"
   ]
  },
  {
   "cell_type": "code",
   "execution_count": 29,
   "metadata": {},
   "outputs": [
    {
     "name": "stderr",
     "output_type": "stream",
     "text": [
      "100%|██████████| 38/38 [00:21<00:00,  1.77it/s]"
     ]
    },
    {
     "name": "stdout",
     "output_type": "stream",
     "text": [
      "test_image : 38, acc : 65.33333333333333\n"
     ]
    },
    {
     "name": "stderr",
     "output_type": "stream",
     "text": [
      "\n"
     ]
    }
   ],
   "source": [
    "corret = 0\n",
    "total = 0\n",
    "with torch.no_grad():\n",
    "    for data in tqdm(test_dataloader):\n",
    "        images, labels = data[0], data[1]\n",
    "        outputs = cnn(images)\n",
    "        _, pred = torch.max(outputs.data, 1)\n",
    "        total += labels.size(0)\n",
    "        corret += (pred==labels).sum().item()\n",
    "\n",
    "print(f'test_image : {len(test_dataloader)}, acc : {100*corret/total}')"
   ]
  },
  {
   "cell_type": "markdown",
   "metadata": {},
   "source": [
    "## VGG"
   ]
  },
  {
   "cell_type": "code",
   "execution_count": 4,
   "metadata": {},
   "outputs": [],
   "source": [
    "class VGG19(nn.Module):\n",
    "    def __init__(self):\n",
    "        super(VGG19, self).__init__()\n",
    "        self.conv = nn.Sequential(\n",
    "            #3 224 128\n",
    "            nn.Conv2d(3, 64, 3, padding=1), nn.LeakyReLU(0.2),\n",
    "            nn.Conv2d(64, 64, 3, padding=1), nn.LeakyReLU(0.2),\n",
    "            nn.MaxPool2d(2, 2),\n",
    "\n",
    "            #64 112 64\n",
    "            nn.Conv2d(64, 128, 3, padding=1), nn.LeakyReLU(0.2),\n",
    "            nn.Conv2d(128, 128, 3, padding=1), nn.LeakyReLU(0.2),\n",
    "            nn.MaxPool2d(2, 2),\n",
    "\n",
    "            #128 56 32\n",
    "            nn.Conv2d(128, 256, 3, padding=1), nn.LeakyReLU(0.2),\n",
    "            nn.Conv2d(256, 256, 3, padding=1), nn.LeakyReLU(0.2),\n",
    "            nn.Conv2d(256, 256, 3, padding=1), nn.LeakyReLU(0.2),            \n",
    "            nn.MaxPool2d(2, 2),\n",
    "\n",
    "            #256 28 16\n",
    "            nn.Conv2d(256, 512, 3, padding=1), nn.LeakyReLU(0.2),\n",
    "            nn.Conv2d(512, 512, 3, padding=1), nn.LeakyReLU(0.2),\n",
    "            nn.Conv2d(512, 512, 3, padding=1), nn.LeakyReLU(0.2),\n",
    "            nn.MaxPool2d(2, 2),\n",
    "\n",
    "            #512 14 8\n",
    "            nn.Conv2d(512, 512, 3, padding=1), nn.LeakyReLU(0.2),\n",
    "            nn.Conv2d(512, 512, 3, padding=1), nn.LeakyReLU(0.2),\n",
    "            nn.Conv2d(512, 512, 3, padding=1), nn.LeakyReLU(0.2),            \n",
    "            nn.MaxPool2d(2, 2)\n",
    "        )\n",
    "        #512 7 4\n",
    "\n",
    "        self.avg_pool = nn.AvgPool2d(7)\n",
    "        #512 1 1\n",
    "        self.classifier = nn.Linear(512, 3)\n",
    "\n",
    "    def forward(self, x):\n",
    "        features = self.conv(x)\n",
    "        x = self.avg_pool(features)\n",
    "        x = x.view(features.size(0), -1)\n",
    "        x = self.classifier(x)\n",
    "        return x, features\n"
   ]
  },
  {
   "cell_type": "code",
   "execution_count": 5,
   "metadata": {},
   "outputs": [],
   "source": [
    "vgg19 = VGG19()\n",
    "param = list(vgg19.parameters())\n",
    "criterion = nn.CrossEntropyLoss()\n",
    "optimizer = optim.Adam(vgg19.parameters(),lr=1e5)"
   ]
  },
  {
   "cell_type": "code",
   "execution_count": 6,
   "metadata": {},
   "outputs": [
    {
     "name": "stderr",
     "output_type": "stream",
     "text": [
      "  0%|          | 0/3 [00:00<?, ?it/s]"
     ]
    },
    {
     "name": "stdout",
     "output_type": "stream",
     "text": [
      "epoch1, lossnan\n"
     ]
    },
    {
     "name": "stderr",
     "output_type": "stream",
     "text": [
      "81it [14:13, 10.54s/it]\n"
     ]
    }
   ],
   "source": [
    "for epoch in tqdm(range(3)):\n",
    "    running_loss = 0.0\n",
    "\n",
    "    if(epoch>0):\n",
    "        vgg19 = VGG19()\n",
    "        vgg19.load_state_dict(torch.load(save_path))\n",
    "\n",
    "    for i, data in tqdm(enumerate(train_dataloader, 0)):\n",
    "        inputs, labels = data\n",
    "        optimizer.zero_grad()\n",
    "        outputs,f = vgg19(inputs)\n",
    "        loss = criterion(outputs, labels)\n",
    "\n",
    "        loss.backward()\n",
    "        optimizer.step()\n",
    "\n",
    "        if(loss.item() > 1000):\n",
    "            print(f'loss : {loss.item()}')\n",
    "            for param in vgg19.parameters():\n",
    "                print(param.data)\n",
    "        \n",
    "        running_loss += loss.item()\n",
    "        if i%50 == 49:\n",
    "            print(f'epoch{epoch+1}, loss{running_loss/50}')\n",
    "            running_loss = 0.0\n",
    "    save_path = '/Users/ppangppang/Documents/dev/deeplearning_with_pytorch/'\n",
    "    torch.save(vgg19.state_dict(), save_path)\n",
    "\n",
    "print('Done')"
   ]
  },
  {
   "cell_type": "code",
   "execution_count": null,
   "metadata": {},
   "outputs": [],
   "source": [
    "corret = 0\n",
    "total = 0\n",
    "with torch.no_grad():\n",
    "    for data in tqdm(test_dataloader):\n",
    "        images, labels = data[0], data[1]\n",
    "        outputs = vgg19(images)\n",
    "        _, pred = torch.max(outputs.data, 1)\n",
    "        total += labels.size(0)\n",
    "        corret += (pred==labels).sum().item()\n",
    "\n",
    "print(f'test_image : {len(test_dataloader)}, acc : {100*corret/total}')"
   ]
  }
 ],
 "metadata": {
  "kernelspec": {
   "display_name": "Python 3.9.7 ('ppangppang')",
   "language": "python",
   "name": "python3"
  },
  "language_info": {
   "codemirror_mode": {
    "name": "ipython",
    "version": 3
   },
   "file_extension": ".py",
   "mimetype": "text/x-python",
   "name": "python",
   "nbconvert_exporter": "python",
   "pygments_lexer": "ipython3",
   "version": "3.9.7"
  },
  "orig_nbformat": 4,
  "vscode": {
   "interpreter": {
    "hash": "540344b0f56104dd127b2095bce08ee86d218da1ed9f9c0f54f4f6a1198c7eef"
   }
  }
 },
 "nbformat": 4,
 "nbformat_minor": 2
}
