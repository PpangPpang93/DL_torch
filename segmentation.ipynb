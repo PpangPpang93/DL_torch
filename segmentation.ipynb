{
 "cells": [
  {
   "cell_type": "markdown",
   "metadata": {},
   "source": [
    "## Sementic Segmentation\n",
    "- classifier와 비슷한 구조\n",
    "- encoder로 위치, 공간에 대한 특성유지시킨채로 feature extraction (No FC Layer)\n",
    "- Decoder를 통해 복원(high resolution restoration)"
   ]
  },
  {
   "cell_type": "markdown",
   "metadata": {},
   "source": [
    "- 실습내용\n",
    "    - 데이터 텐서연산\n",
    "    - U-net 아키텍처\n",
    "    - Cross-entropy, Dice Loss Funtion, SGDM\n",
    "    - Dice similarity coefficient 성능지표"
   ]
  },
  {
   "cell_type": "code",
   "execution_count": 1,
   "metadata": {},
   "outputs": [
    {
     "data": {
      "text/html": [
       "<div>\n",
       "<style scoped>\n",
       "    .dataframe tbody tr th:only-of-type {\n",
       "        vertical-align: middle;\n",
       "    }\n",
       "\n",
       "    .dataframe tbody tr th {\n",
       "        vertical-align: top;\n",
       "    }\n",
       "\n",
       "    .dataframe thead th {\n",
       "        text-align: right;\n",
       "    }\n",
       "</style>\n",
       "<table border=\"1\" class=\"dataframe\">\n",
       "  <thead>\n",
       "    <tr style=\"text-align: right;\">\n",
       "      <th></th>\n",
       "      <th>ImageId</th>\n",
       "      <th>MaskId</th>\n",
       "    </tr>\n",
       "  </thead>\n",
       "  <tbody>\n",
       "    <tr>\n",
       "      <th>0</th>\n",
       "      <td>ID00007637202177411956430_0.jpg</td>\n",
       "      <td>ID00007637202177411956430_mask_0.jpg</td>\n",
       "    </tr>\n",
       "    <tr>\n",
       "      <th>1</th>\n",
       "      <td>ID00007637202177411956430_1.jpg</td>\n",
       "      <td>ID00007637202177411956430_mask_1.jpg</td>\n",
       "    </tr>\n",
       "    <tr>\n",
       "      <th>2</th>\n",
       "      <td>ID00007637202177411956430_2.jpg</td>\n",
       "      <td>ID00007637202177411956430_mask_2.jpg</td>\n",
       "    </tr>\n",
       "    <tr>\n",
       "      <th>3</th>\n",
       "      <td>ID00007637202177411956430_3.jpg</td>\n",
       "      <td>ID00007637202177411956430_mask_3.jpg</td>\n",
       "    </tr>\n",
       "    <tr>\n",
       "      <th>4</th>\n",
       "      <td>ID00007637202177411956430_4.jpg</td>\n",
       "      <td>ID00007637202177411956430_mask_4.jpg</td>\n",
       "    </tr>\n",
       "  </tbody>\n",
       "</table>\n",
       "</div>"
      ],
      "text/plain": [
       "                           ImageId                                MaskId\n",
       "0  ID00007637202177411956430_0.jpg  ID00007637202177411956430_mask_0.jpg\n",
       "1  ID00007637202177411956430_1.jpg  ID00007637202177411956430_mask_1.jpg\n",
       "2  ID00007637202177411956430_2.jpg  ID00007637202177411956430_mask_2.jpg\n",
       "3  ID00007637202177411956430_3.jpg  ID00007637202177411956430_mask_3.jpg\n",
       "4  ID00007637202177411956430_4.jpg  ID00007637202177411956430_mask_4.jpg"
      ]
     },
     "execution_count": 1,
     "metadata": {},
     "output_type": "execute_result"
    }
   ],
   "source": [
    "import os\n",
    "import pandas as pd\n",
    "import numpy as np\n",
    "\n",
    "data_dir = '/Users/ppangppang/Desktop/팡팡팡/DS/CV/Segmentation'\n",
    "data_df = pd.read_csv(os.path.join(data_dir, \"train.csv\"))\n",
    "data_df.head()"
   ]
  },
  {
   "cell_type": "code",
   "execution_count": 3,
   "metadata": {},
   "outputs": [],
   "source": [
    "def extract_client_id(x):\n",
    "    return x.split(\"_\")[0]"
   ]
  },
  {
   "cell_type": "code",
   "execution_count": 4,
   "metadata": {},
   "outputs": [
    {
     "data": {
      "text/html": [
       "<div>\n",
       "<style scoped>\n",
       "    .dataframe tbody tr th:only-of-type {\n",
       "        vertical-align: middle;\n",
       "    }\n",
       "\n",
       "    .dataframe tbody tr th {\n",
       "        vertical-align: top;\n",
       "    }\n",
       "\n",
       "    .dataframe thead th {\n",
       "        text-align: right;\n",
       "    }\n",
       "</style>\n",
       "<table border=\"1\" class=\"dataframe\">\n",
       "  <thead>\n",
       "    <tr style=\"text-align: right;\">\n",
       "      <th></th>\n",
       "      <th>ImageId</th>\n",
       "      <th>MaskId</th>\n",
       "      <th>Id</th>\n",
       "    </tr>\n",
       "  </thead>\n",
       "  <tbody>\n",
       "    <tr>\n",
       "      <th>0</th>\n",
       "      <td>ID00007637202177411956430_0.jpg</td>\n",
       "      <td>ID00007637202177411956430_mask_0.jpg</td>\n",
       "      <td>ID00007637202177411956430</td>\n",
       "    </tr>\n",
       "    <tr>\n",
       "      <th>1</th>\n",
       "      <td>ID00007637202177411956430_1.jpg</td>\n",
       "      <td>ID00007637202177411956430_mask_1.jpg</td>\n",
       "      <td>ID00007637202177411956430</td>\n",
       "    </tr>\n",
       "    <tr>\n",
       "      <th>2</th>\n",
       "      <td>ID00007637202177411956430_2.jpg</td>\n",
       "      <td>ID00007637202177411956430_mask_2.jpg</td>\n",
       "      <td>ID00007637202177411956430</td>\n",
       "    </tr>\n",
       "    <tr>\n",
       "      <th>3</th>\n",
       "      <td>ID00007637202177411956430_3.jpg</td>\n",
       "      <td>ID00007637202177411956430_mask_3.jpg</td>\n",
       "      <td>ID00007637202177411956430</td>\n",
       "    </tr>\n",
       "    <tr>\n",
       "      <th>4</th>\n",
       "      <td>ID00007637202177411956430_4.jpg</td>\n",
       "      <td>ID00007637202177411956430_mask_4.jpg</td>\n",
       "      <td>ID00007637202177411956430</td>\n",
       "    </tr>\n",
       "    <tr>\n",
       "      <th>...</th>\n",
       "      <td>...</td>\n",
       "      <td>...</td>\n",
       "      <td>...</td>\n",
       "    </tr>\n",
       "    <tr>\n",
       "      <th>16703</th>\n",
       "      <td>ID00426637202313170790466_403.jpg</td>\n",
       "      <td>ID00426637202313170790466_mask_403.jpg</td>\n",
       "      <td>ID00426637202313170790466</td>\n",
       "    </tr>\n",
       "    <tr>\n",
       "      <th>16704</th>\n",
       "      <td>ID00426637202313170790466_404.jpg</td>\n",
       "      <td>ID00426637202313170790466_mask_404.jpg</td>\n",
       "      <td>ID00426637202313170790466</td>\n",
       "    </tr>\n",
       "    <tr>\n",
       "      <th>16705</th>\n",
       "      <td>ID00426637202313170790466_405.jpg</td>\n",
       "      <td>ID00426637202313170790466_mask_405.jpg</td>\n",
       "      <td>ID00426637202313170790466</td>\n",
       "    </tr>\n",
       "    <tr>\n",
       "      <th>16706</th>\n",
       "      <td>ID00426637202313170790466_406.jpg</td>\n",
       "      <td>ID00426637202313170790466_mask_406.jpg</td>\n",
       "      <td>ID00426637202313170790466</td>\n",
       "    </tr>\n",
       "    <tr>\n",
       "      <th>16707</th>\n",
       "      <td>ID00426637202313170790466_407.jpg</td>\n",
       "      <td>ID00426637202313170790466_mask_407.jpg</td>\n",
       "      <td>ID00426637202313170790466</td>\n",
       "    </tr>\n",
       "  </tbody>\n",
       "</table>\n",
       "<p>16708 rows × 3 columns</p>\n",
       "</div>"
      ],
      "text/plain": [
       "                                 ImageId  \\\n",
       "0        ID00007637202177411956430_0.jpg   \n",
       "1        ID00007637202177411956430_1.jpg   \n",
       "2        ID00007637202177411956430_2.jpg   \n",
       "3        ID00007637202177411956430_3.jpg   \n",
       "4        ID00007637202177411956430_4.jpg   \n",
       "...                                  ...   \n",
       "16703  ID00426637202313170790466_403.jpg   \n",
       "16704  ID00426637202313170790466_404.jpg   \n",
       "16705  ID00426637202313170790466_405.jpg   \n",
       "16706  ID00426637202313170790466_406.jpg   \n",
       "16707  ID00426637202313170790466_407.jpg   \n",
       "\n",
       "                                       MaskId                         Id  \n",
       "0        ID00007637202177411956430_mask_0.jpg  ID00007637202177411956430  \n",
       "1        ID00007637202177411956430_mask_1.jpg  ID00007637202177411956430  \n",
       "2        ID00007637202177411956430_mask_2.jpg  ID00007637202177411956430  \n",
       "3        ID00007637202177411956430_mask_3.jpg  ID00007637202177411956430  \n",
       "4        ID00007637202177411956430_mask_4.jpg  ID00007637202177411956430  \n",
       "...                                       ...                        ...  \n",
       "16703  ID00426637202313170790466_mask_403.jpg  ID00426637202313170790466  \n",
       "16704  ID00426637202313170790466_mask_404.jpg  ID00426637202313170790466  \n",
       "16705  ID00426637202313170790466_mask_405.jpg  ID00426637202313170790466  \n",
       "16706  ID00426637202313170790466_mask_406.jpg  ID00426637202313170790466  \n",
       "16707  ID00426637202313170790466_mask_407.jpg  ID00426637202313170790466  \n",
       "\n",
       "[16708 rows x 3 columns]"
      ]
     },
     "execution_count": 4,
     "metadata": {},
     "output_type": "execute_result"
    }
   ],
   "source": [
    "data_df[\"Id\"] = data_df.ImageId.apply(lambda x:extract_client_id(x))\n",
    "data_df"
   ]
  },
  {
   "cell_type": "code",
   "execution_count": 5,
   "metadata": {},
   "outputs": [
    {
     "name": "stdout",
     "output_type": "stream",
     "text": [
      "112\n"
     ]
    }
   ],
   "source": [
    "## client 인원 확인\n",
    "client_ids = np.unique(data_df.Id.values)\n",
    "print(len(client_ids))"
   ]
  },
  {
   "cell_type": "code",
   "execution_count": 6,
   "metadata": {},
   "outputs": [],
   "source": [
    "## 환자 1명\n",
    "index = 0\n",
    "client_data = data_df[data_df.Id == client_ids[index]][[\"ImageId\", \"MaskId\"]]"
   ]
  },
  {
   "cell_type": "code",
   "execution_count": 7,
   "metadata": {},
   "outputs": [
    {
     "data": {
      "image/png": "[encoded data removed]",
      "text/plain": [
       "<Figure size 576x432 with 2 Axes>"
      ]
     },
     "metadata": {
      "needs_background": "light"
     },
     "output_type": "display_data"
    }
   ],
   "source": [
    "import cv2\n",
    "import matplotlib.pyplot as plt\n",
    "\n",
    "sub_index = 2\n",
    "img_name, mask_name = client_data.iloc[sub_index].values\n",
    "img_path, mask_path = os.path.join(data_dir, \"images\", img_name), os.path.join(data_dir, \"masks\", mask_name)\n",
    "image = cv2.imread(img_path)\n",
    "mask = cv2.imread(mask_path)\n",
    "thres = 240\n",
    "mask[mask < thres] = 0\n",
    "mask[mask >= thres] = 255\n",
    "\n",
    "plt.figure(figsize=(8,6))\n",
    "plt.subplot(121)\n",
    "plt.title(\"image\")\n",
    "plt.imshow(image)\n",
    "plt.subplot(122)\n",
    "plt.title(\"mask\")\n",
    "plt.imshow(mask)\n",
    "plt.tight_layout()"
   ]
  },
  {
   "cell_type": "code",
   "execution_count": 8,
   "metadata": {},
   "outputs": [
    {
     "data": {
      "text/plain": [
       "array([[0, 0, 0, ..., 0, 0, 0],\n",
       "       [0, 0, 0, ..., 0, 0, 0],\n",
       "       [0, 0, 0, ..., 0, 0, 0],\n",
       "       ...,\n",
       "       [0, 0, 0, ..., 0, 0, 0],\n",
       "       [0, 0, 0, ..., 0, 0, 0],\n",
       "       [0, 0, 0, ..., 0, 0, 0]], dtype=uint8)"
      ]
     },
     "execution_count": 8,
     "metadata": {},
     "output_type": "execute_result"
    }
   ],
   "source": [
    "mask.shape\n",
    "## 0 : 폐, 1 : 심장, 2 : 기도\n",
    "mask[...,1]"
   ]
  },
  {
   "cell_type": "code",
   "execution_count": 9,
   "metadata": {},
   "outputs": [],
   "source": [
    "def get_client_data(data_df, index):\n",
    "    client_ids = np.unique(data_df.Id.values)\n",
    "    client_id = client_ids[index]\n",
    "    client_data = data_df[data_df.Id == client_id]\n",
    "    image_files = list(client_data[\"ImageId\"])\n",
    "    mask_files = list(client_data[\"MaskId\"])\n",
    "    return client_id, image_files, mask_files"
   ]
  },
  {
   "cell_type": "code",
   "execution_count": 10,
   "metadata": {},
   "outputs": [],
   "source": [
    "regions = [\"background\", \"trachea\", \"heart\", \"lung\"]\n",
    "colors = ((0,0,0), (255, 0, 0), (0, 255, 0), (0, 0, 255))"
   ]
  },
  {
   "cell_type": "code",
   "execution_count": 11,
   "metadata": {},
   "outputs": [
    {
     "data": {
      "text/plain": [
       "(512, 1074, 3)"
      ]
     },
     "execution_count": 11,
     "metadata": {},
     "output_type": "execute_result"
    }
   ],
   "source": [
    "canvas = np.zeros(shape=(512, 2*512+50, 3), dtype=np.uint8)\n",
    "canvas.shape"
   ]
  },
  {
   "cell_type": "code",
   "execution_count": 12,
   "metadata": {},
   "outputs": [],
   "source": [
    "# ## image 영상으로재생\n",
    "\n",
    "# index = 0\n",
    "# client_id, image_files, mask_files = get_client_data(data_df, index)\n",
    "\n",
    "# canvas = np.zeros(shape=(512, 2*512+50, 3), dtype=np.uint8)\n",
    "# for i in range(len(image_files)):\n",
    "#     image = cv2.imread(os.path.join(data_dir, \"images\", image_files[i]))\n",
    "#     image = cv2.cvtColor(image, cv2.COLOR_BGR2RGB)\n",
    "#     mask = cv2.imread(os.path.join(data_dir, \"masks\", mask_files[i]))\n",
    "#     mask = cv2.cvtColor(mask, cv2.COLOR_BGR2RGB)\n",
    "#     thres = 240\n",
    "#     mask[mask < thres] = 0\n",
    "#     mask[mask >= thres] = 255\n",
    "#     grid_pad = 50\n",
    "    \n",
    "#     canvas[:, :512, :] = image\n",
    "#     canvas[:, 512+grid_pad:2*512+grid_pad, :] = mask\n",
    "    \n",
    "#     text_buff = 410\n",
    "#     for j in range(1, len(regions)):\n",
    "#         cv2.putText(canvas, f'{regions[j].upper()}', (900, text_buff), cv2.FONT_HERSHEY_SIMPLEX, 1, colors[j], 2)\n",
    "#         text_buff += 40\n",
    "    \n",
    "#     cv2.imshow('CT frames', canvas)\n",
    "#     key = cv2.waitKey(60)\n",
    "#     if key == 27:\n",
    "#         break\n",
    "# cv2.destroyAllWindows()"
   ]
  },
  {
   "cell_type": "markdown",
   "metadata": {},
   "source": [
    "### 데이터셋 준비"
   ]
  },
  {
   "cell_type": "code",
   "execution_count": 13,
   "metadata": {},
   "outputs": [],
   "source": [
    "IMAGE_SIZE = 224"
   ]
  },
  {
   "cell_type": "code",
   "execution_count": 28,
   "metadata": {},
   "outputs": [],
   "source": [
    "import torch\n",
    "\n",
    "class CT_dataset():\n",
    "    def __init__(self, data_dir, phase, transformer=None):\n",
    "        self.phase = phase\n",
    "        self.image_dir = os.path.join(data_dir, phase, 'images')\n",
    "        self.mask_dir = os.path.join(data_dir, phase, 'masks')        \n",
    "        self.image_files = [filename for filename in os.listdir(self.image_dir) if filename.endswith('jpg')]\n",
    "        self.mask_files = [filename for filename in os.listdir(self.mask_dir) if filename.endswith('jpg')]\n",
    "        assert len(self.image_files) == len(self.mask_files)\n",
    "\n",
    "        self.transformer = transformer\n",
    "\n",
    "    def __len__(self):\n",
    "        return len(self.image_files)\n",
    "\n",
    "    def __getitem__(self, index):\n",
    "        image = cv2.imread(os.path.join(self.image_dir, self.image_files[index]))\n",
    "        image = cv2.resize(image, dsize=(IMAGE_SIZE, IMAGE_SIZE), interpolation=cv2.INTER_LINEAR)\n",
    "        mask = cv2.imread(os.path.join(self.mask_dir, self.mask_files[index]))\n",
    "        mask = cv2.resize(mask, dsize=(IMAGE_SIZE, IMAGE_SIZE), interpolation=cv2.INTER_LINEAR)\n",
    "\n",
    "        # mask는 linear로 하면 안되고 비선형적으로 해야함\n",
    "        # resize, interpolate를 하면, 마스크 값 외에 보간법으로 채워진 다른 값이 들어가게 된다\n",
    "        # 이 경우, segmentation 수행에 있어, 없던 값을 분류하게 되어 학습이 되지 않을 수 있다.\n",
    "        # 따라서 마스크는 nearlist로 0 또는 10 등의 값으로 fix될 수 있게 변환해야한다\n",
    "        mask[mask < 240] = 0\n",
    "        mask[mask >= 240] = 255\n",
    "        mask = mask / 255.\n",
    "\n",
    "        mask_H, mask_W, mask_C = mask.shape\n",
    "        background = np.ones(shape=(mask_H, mask_W))\n",
    "        background[mask[...,0] != 0] = 0\n",
    "        background[mask[...,1] != 0] = 0\n",
    "        background[mask[...,2] != 0] = 0\n",
    "        mask = np.concatenate([np.expand_dims(background, -1), mask], axis=-1)\n",
    "        mask = np.argmax(mask, axis=-1, keepdims=False)\n",
    "\n",
    "        if self.transformer:\n",
    "            image = self.transformer(image)\n",
    "\n",
    "        # pixel 단위로 classifier 하므로 integer값으로 변환 및 토치변환    \n",
    "        target = torch.from_numpy(mask).long()\n",
    "        return image, target"
   ]
  },
  {
   "cell_type": "code",
   "execution_count": 38,
   "metadata": {},
   "outputs": [],
   "source": [
    "from torchvision import transforms\n",
    "\n",
    "def build_transformer():\n",
    "    transformer = transforms.Compose([\n",
    "        ## 0과 1사이 분포로 변경\n",
    "        transforms.ToTensor(),\n",
    "        ## Normalize\n",
    "        transforms.Normalize([0.485, 0.456, 0.406], [0.229, 0.224, 0.225])\n",
    "    ])\n",
    "    return transformer"
   ]
  },
  {
   "cell_type": "code",
   "execution_count": 39,
   "metadata": {},
   "outputs": [],
   "source": [
    "## batch 형태로 이미지가 구성될때, 각 이미지와 라벨을 어떤 형태의 mini batch로 만드는지\n",
    "def collate_fn(batch):\n",
    "    images = []\n",
    "    targets = []\n",
    "    for a, b in batch:\n",
    "        images.append(a)\n",
    "        targets.append(b)\n",
    "    images = torch.stack(images, dim=0)\n",
    "    targets = torch.stack(targets, dim=0)\n",
    "\n",
    "    return images, targets"
   ]
  },
  {
   "cell_type": "code",
   "execution_count": 64,
   "metadata": {},
   "outputs": [
    {
     "name": "stdout",
     "output_type": "stream",
     "text": [
      "torch.Size([3, 224, 224])\n",
      "torch.Size([224, 224])\n",
      "torch.Size([4, 3, 224, 224])\n",
      "torch.Size([4, 224, 224])\n"
     ]
    }
   ],
   "source": [
    "from torch.utils.data import DataLoader\n",
    "\n",
    "data_dir = '/Users/ppangppang/Desktop/팡팡팡/DS/CV/Segmentation'\n",
    "transformer = build_transformer()\n",
    "\n",
    "tr_dataset = CT_dataset(data_dir=data_dir, phase='train', transformer=transformer)\n",
    "val_dataset = CT_dataset(data_dir=data_dir, phase='val', transformer=transformer)\n",
    "tr_dataloader = DataLoader(tr_dataset, batch_size=4, shuffle=True, collate_fn=collate_fn)\n",
    "val_dataloader = DataLoader(tr_dataset, batch_size=1, shuffle=False, collate_fn=collate_fn)\n",
    "\n",
    "## datasets 확인\n",
    "image,target = tr_dataset[3]\n",
    "print(image.shape)\n",
    "print(target.shape)\n",
    "\n",
    "## dataloader 확인\n",
    "for index, batch in enumerate(tr_dataloader):\n",
    "    images = batch[0]\n",
    "    targets = batch[1]\n",
    "    print(images.shape)\n",
    "    print(targets.shape)\n",
    "    break"
   ]
  },
  {
   "cell_type": "code",
   "execution_count": 66,
   "metadata": {},
   "outputs": [],
   "source": [
    "## dataloader 기능 종합\n",
    "def build_dataloader(data_dir, batch_size=4):\n",
    "    transformer = build_transformer()\n",
    "    \n",
    "    dataloaders = {}\n",
    "    train_dataset = CT_dataset(data_dir=data_dir, phase=\"train\", transformer=transformer)\n",
    "    dataloaders['train'] = DataLoader(tr_dataset, batch_size=batch_size, shuffle=True, collate_fn=collate_fn)\n",
    "\n",
    "    val_dataset = CT_dataset(data_dir=data_dir, phase=\"val\", transformer=transformer)\n",
    "    dataloaders['val'] = DataLoader(val_dataset, batch_size=1, shuffle=False, collate_fn=collate_fn)\n",
    "    return dataloaders"
   ]
  },
  {
   "cell_type": "code",
   "execution_count": 68,
   "metadata": {},
   "outputs": [
    {
     "name": "stdout",
     "output_type": "stream",
     "text": [
      "images shape: torch.Size([4, 3, 224, 224])\n",
      "masks shape: torch.Size([4, 224, 224])\n",
      "images shape: torch.Size([1, 3, 224, 224])\n",
      "masks shape: torch.Size([1, 224, 224])\n"
     ]
    }
   ],
   "source": [
    "dataloaders = build_dataloader(data_dir=data_dir)\n",
    "\n",
    "for phase in ['train', 'val']:\n",
    "    for index, batch in enumerate(dataloaders[phase]):\n",
    "        images = batch[0]\n",
    "        targets = batch[1]\n",
    "        print(f\"images shape: {images.shape}\")\n",
    "        print(f\"masks shape: {targets.shape}\")\n",
    "        if index == 0:\n",
    "            break"
   ]
  },
  {
   "cell_type": "markdown",
   "metadata": {},
   "source": [
    "## U-net 구현\n",
    "-  https://towardsdatascience.com/unet-line-by-line-explanation-9b191c76baf5\n",
    "- encoder -> Resolution(해상도)는 낮아지고 Semntic(의미론적 feature)는 커진다 / decoder는 반대(- 사진의 크기가 작아지면서 feautre dim은 커진다)\n",
    "---\n",
    "- conv layer\n",
    "- max pooling layer\n",
    "- up-conv layer\n",
    "- copy and crop layer"
   ]
  },
  {
   "cell_type": "code",
   "execution_count": 69,
   "metadata": {},
   "outputs": [],
   "source": [
    "import torch.nn as nn"
   ]
  },
  {
   "cell_type": "code",
   "execution_count": 72,
   "metadata": {},
   "outputs": [],
   "source": [
    "## conv layer\n",
    "## conv 2번 통과\n",
    "def ConvLayer(in_channels, out_channels):\n",
    "    layers = nn.Sequential(\n",
    "        ## 링크에 있는 구조와는 조금 다름 : 정보 소실을 줄이기 위해 padding 추가함\n",
    "        nn.Conv2d(in_channels, out_channels, kernel_size=3, padding=1),\n",
    "        nn.BatchNorm2d(out_channels),\n",
    "        nn.ReLU(inplace=True),\n",
    "        \n",
    "        nn.Conv2d(out_channels, out_channels, kernel_size=3, padding=1),\n",
    "        nn.BatchNorm2d(out_channels),\n",
    "        nn.ReLU(inplace=True),\n",
    "    )\n",
    "    return layers"
   ]
  },
  {
   "cell_type": "code",
   "execution_count": 78,
   "metadata": {},
   "outputs": [],
   "source": [
    "class Encoder(nn.Module):\n",
    "    def __init__(self):\n",
    "        super().__init__()\n",
    "        self.conv_block1 = ConvLayer(in_channels=3, out_channels=64)\n",
    "        self.conv_block2 = ConvLayer(in_channels=64, out_channels=128)\n",
    "        self.conv_block3 = ConvLayer(in_channels=128, out_channels=256)\n",
    "        self.conv_block4 = ConvLayer(in_channels=256, out_channels=512)\n",
    "        self.conv_block5 = ConvLayer(in_channels=512, out_channels=1024)\n",
    "        self.pool = nn.MaxPool2d(kernel_size=2)\n",
    "    \n",
    "    def forward(self, x):\n",
    "        ## cooy and crop을 위해 각 층의 값을 가져와야함\n",
    "        encode_features = []\n",
    "        \n",
    "        out = self.conv_block1(x)\n",
    "        encode_features.append(out)\n",
    "        out = self.pool(out)\n",
    "\n",
    "        out = self.conv_block2(out)\n",
    "        encode_features.append(out)\n",
    "        out = self.pool(out)\n",
    "\n",
    "        out = self.conv_block3(out)\n",
    "        encode_features.append(out)\n",
    "        out = self.pool(out)\n",
    "\n",
    "        out = self.conv_block4(out)\n",
    "        encode_features.append(out)\n",
    "        out = self.pool(out)\n",
    "\n",
    "        ## 마지막층은 copy & crop 없음\n",
    "        out = self.conv_block5(out)        \n",
    "        return out, encode_features"
   ]
  },
  {
   "cell_type": "code",
   "execution_count": 80,
   "metadata": {},
   "outputs": [
    {
     "name": "stdout",
     "output_type": "stream",
     "text": [
      "encoder feature shape\n",
      "torch.Size([1, 64, 224, 224])\n",
      "torch.Size([1, 128, 112, 112])\n",
      "torch.Size([1, 256, 56, 56])\n",
      "torch.Size([1, 512, 28, 28])\n",
      "output size\n",
      "torch.Size([1, 1024, 14, 14])\n"
     ]
    }
   ],
   "source": [
    "## 작동 확인\n",
    "encoder = Encoder()\n",
    "x = torch.randn(1,3,224,224)    # batch 1, 3*224*224 예시\n",
    "out, ftrs = encoder(x)\n",
    "\n",
    "## 계층 확인\n",
    "print('encoder feature shape')\n",
    "for ftr in ftrs:\n",
    "    print(ftr.shape)\n",
    "print('output size')\n",
    "print(out.shape)"
   ]
  },
  {
   "cell_type": "code",
   "execution_count": 81,
   "metadata": {},
   "outputs": [],
   "source": [
    "def UpConvLayer(in_channels, out_channels):\n",
    "    layers = nn.Sequential(\n",
    "        nn.ConvTranspose2d(in_channels, out_channels, kernel_size=2, stride=2),\n",
    "        nn.BatchNorm2d(out_channels),\n",
    "        nn.ReLU(inplace=True)\n",
    "    )\n",
    "    return layers"
   ]
  },
  {
   "cell_type": "code",
   "execution_count": 82,
   "metadata": {},
   "outputs": [],
   "source": [
    "class Decoder(nn.Module):\n",
    "    def __init__(self):\n",
    "        super().__init__()\n",
    "        self.upconv_layer1 = UpConvLayer(in_channels=1024, out_channels=512)\n",
    "        self.conv_block1 = ConvLayer(in_channels=512+512, out_channels=512)\n",
    "\n",
    "        self.upconv_layer2 = UpConvLayer(in_channels=512, out_channels=256)\n",
    "        self.conv_block2 = ConvLayer(in_channels=256+256, out_channels=256)\n",
    "\n",
    "        self.upconv_layer3 = UpConvLayer(in_channels=256, out_channels=128)\n",
    "        self.conv_block3 = ConvLayer(in_channels=128+128, out_channels=128)\n",
    "\n",
    "        self.upconv_layer4 = UpConvLayer(in_channels=128, out_channels=64)\n",
    "        self.conv_block4 = ConvLayer(in_channels=64+64, out_channels=64)\n",
    "\n",
    "    def forward(self, x, encoder_features):\n",
    "        out = self.upconv_layer1(x)\n",
    "        croped_enc_feature = self._center_crop(encoder_features[-1], out.shape[2:])\n",
    "        out = torch.cat([out, croped_enc_feature], dim=1)\n",
    "        out = self.conv_block1(out)\n",
    "\n",
    "        out = self.upconv_layer2(out)\n",
    "        croped_enc_feature = self._center_crop(encoder_features[-2], out.shape[2:])\n",
    "        out = torch.cat([out, croped_enc_feature], dim=1)\n",
    "        out = self.conv_block2(out)\n",
    "\n",
    "        out = self.upconv_layer3(out)\n",
    "        croped_enc_feature = self._center_crop(encoder_features[-3], out.shape[2:])\n",
    "        out = torch.cat([out, croped_enc_feature], dim=1)\n",
    "        out = self.conv_block3(out)\n",
    "\n",
    "        out = self.upconv_layer4(out)\n",
    "        croped_enc_feature = self._center_crop(encoder_features[-4], out.shape[2:])\n",
    "        out = torch.cat([out, croped_enc_feature], dim=1)\n",
    "        out = self.conv_block4(out)\n",
    "        return out\n",
    "\n",
    "    def _center_crop(self, encoder_feature, decoder_feature_size):\n",
    "        croped_features = transforms.CenterCrop(size=decoder_feature_size)(encoder_feature)\n",
    "        return croped_features"
   ]
  },
  {
   "cell_type": "code",
   "execution_count": 83,
   "metadata": {},
   "outputs": [],
   "source": [
    "encoder = Encoder()\n",
    "decoder = Decoder()\n",
    "x = torch.randn(1, 3, 224, 224)\n",
    "out, ftrs = encoder(x)\n",
    "out = decoder(out, ftrs)"
   ]
  },
  {
   "cell_type": "code",
   "execution_count": 84,
   "metadata": {},
   "outputs": [
    {
     "name": "stdout",
     "output_type": "stream",
     "text": [
      "torch.Size([1, 64, 224, 224])\n"
     ]
    }
   ],
   "source": [
    "print(out.shape)"
   ]
  },
  {
   "cell_type": "code",
   "execution_count": 86,
   "metadata": {},
   "outputs": [],
   "source": [
    "import torch.nn.functional as F"
   ]
  },
  {
   "cell_type": "code",
   "execution_count": 87,
   "metadata": {},
   "outputs": [],
   "source": [
    "class UNet(nn.Module):\n",
    "    def __init__(self, num_classes, retain_input_dim=True):\n",
    "        super().__init__()\n",
    "        self.encoder = Encoder()\n",
    "        self.decoder = Decoder()\n",
    "        ## 1*1 Conv layer\n",
    "        self.head = nn.Conv2d(64, num_classes, kernel_size=1)\n",
    "        self.retain_input_dim = retain_input_dim\n",
    "\n",
    "    def forward(self, x):\n",
    "        out, encode_features = self.encoder(x)\n",
    "        out = self.decoder(out, encode_features)\n",
    "        out = self.head(out)\n",
    "        if self.retain_input_dim:\n",
    "            _, _, H, W = x.shape\n",
    "            out = F.interpolate(out, size=(H,W))\n",
    "        return out"
   ]
  },
  {
   "cell_type": "code",
   "execution_count": 88,
   "metadata": {},
   "outputs": [
    {
     "name": "stdout",
     "output_type": "stream",
     "text": [
      "input shape: torch.Size([1, 3, 224, 224])\n",
      "output shape: torch.Size([1, 4, 224, 224])\n"
     ]
    }
   ],
   "source": [
    "model = UNet(num_classes=4)\n",
    "x = torch.randn(1, 3, 224, 224)\n",
    "out = model(x)\n",
    "print(f\"input shape: {x.shape}\")\n",
    "print(f\"output shape: {out.shape}\")"
   ]
  },
  {
   "cell_type": "markdown",
   "metadata": {},
   "source": [
    "## Loss function 구현(Dice Loss)"
   ]
  },
  {
   "cell_type": "code",
   "execution_count": 89,
   "metadata": {},
   "outputs": [],
   "source": [
    "for index, batch in enumerate(tr_dataloader):\n",
    "    images = batch[0]\n",
    "    targets = batch[1]\n",
    "    predictions = model(images)\n",
    "    \n",
    "    if index == 0:\n",
    "        break"
   ]
  },
  {
   "cell_type": "code",
   "execution_count": 91,
   "metadata": {},
   "outputs": [],
   "source": [
    "num_classes = 4\n",
    "\n",
    "predictions_ = torch.argmax(predictions, dim=1)\n",
    "onehot_pred = F.one_hot(predictions_, num_classes=num_classes).permute(0, 3, 1, 2)\n",
    "onehot_target = F.one_hot(targets, num_classes=num_classes).permute(0, 3, 1, 2)"
   ]
  },
  {
   "cell_type": "code",
   "execution_count": 92,
   "metadata": {},
   "outputs": [],
   "source": [
    "onehot_pred_ = onehot_pred[0]\n",
    "onehot_target_ = onehot_target[0]\n",
    "\n",
    "dice_coeff = 0\n",
    "for class_index in range(1, num_classes):\n",
    "    a = onehot_pred_[class_index]\n",
    "    b = onehot_target_[class_index]\n",
    "    set_inter = torch.dot(a.reshape(-1).float(), b.reshape(-1).float())\n",
    "    set_sum = a.sum() + b.sum()\n",
    "    dice_coeff += (2 * set_inter) / (set_sum + 1e-9)\n",
    "dice_coeff /= (num_classes-1)"
   ]
  },
  {
   "cell_type": "code",
   "execution_count": 94,
   "metadata": {},
   "outputs": [
    {
     "data": {
      "text/plain": [
       "tensor(0.9980)"
      ]
     },
     "execution_count": 94,
     "metadata": {},
     "output_type": "execute_result"
    }
   ],
   "source": [
    "dice_loss = 1. - dice_coeff\n",
    "dice_loss"
   ]
  },
  {
   "cell_type": "code",
   "execution_count": 95,
   "metadata": {},
   "outputs": [],
   "source": [
    "class UNet_metric():\n",
    "    def __init__(self, num_classes):\n",
    "        self.num_classes = num_classes\n",
    "        \n",
    "    def __call__(self, pred, target):\n",
    "        onehot_pred = F.one_hot(torch.argmax(pred, dim=1), num_classes=self.num_classes).permute(0, 3, 1, 2)\n",
    "        onehot_target = F.one_hot(target, num_classes=self.num_classes).permute(0, 3, 1, 2)\n",
    "        dice_loss = self._get_dice_loss(onehot_pred, onehot_target)\n",
    "        dice_coefficient = self._get_batch_dice_coefficient(onehot_pred, onehot_target)\n",
    "        return dice_loss, dice_coefficient\n",
    "    \n",
    "    def _get_dice_coeffient(self, pred, target):\n",
    "        set_inter = torch.dot(pred.reshape(-1).float(), target.reshape(-1).float())\n",
    "        set_sum = pred.sum() + target.sum()\n",
    "        if set_sum.item() == 0:\n",
    "            set_sum = 2 * set_inter\n",
    "        dice_coeff = (2 * set_inter) / (set_sum + 1e-9)\n",
    "        return dice_coeff\n",
    "    \n",
    "    def _get_multiclass_dice_coefficient(self, pred, target):\n",
    "        dice = 0\n",
    "        for class_index in range(1, self.num_classes):\n",
    "            dice += self._get_dice_coeffient(pred[class_index], target[class_index])\n",
    "        return dice / (self.num_classes - 1)\n",
    "    \n",
    "    def _get_batch_dice_coefficient(self, pred, target):\n",
    "        num_batch = pred.shape[0]\n",
    "        dice = 0\n",
    "        for batch_index in range(num_batch):\n",
    "            dice += self._get_multiclass_dice_coefficient(pred[batch_index], target[batch_index])\n",
    "        return dice / num_batch\n",
    "    \n",
    "    def _get_dice_loss(self, pred, target):\n",
    "        return 1 - self._get_batch_dice_coefficient(pred, target)"
   ]
  },
  {
   "cell_type": "code",
   "execution_count": 96,
   "metadata": {},
   "outputs": [
    {
     "data": {
      "text/plain": [
       "(tensor(0.9666), tensor(0.0334))"
      ]
     },
     "execution_count": 96,
     "metadata": {},
     "output_type": "execute_result"
    }
   ],
   "source": [
    "criterion = UNet_metric(num_classes=4)\n",
    "criterion(predictions, targets)"
   ]
  },
  {
   "cell_type": "code",
   "execution_count": 97,
   "metadata": {},
   "outputs": [],
   "source": [
    "## SGD 최적화하기\n",
    "class UNet_metric():\n",
    "    def __init__(self, num_classes):\n",
    "        self.num_classes = num_classes\n",
    "        self.CE_loss = nn.CrossEntropyLoss(reduction=\"mean\")\n",
    "        \n",
    "    def __call__(self, pred, target):\n",
    "        loss1 = self.CE_loss(pred, target)\n",
    "        onehot_pred = F.one_hot(torch.argmax(pred, dim=1), num_classes=self.num_classes).permute(0, 3, 1, 2)\n",
    "        onehot_target = F.one_hot(target, num_classes=self.num_classes).permute(0, 3, 1, 2)\n",
    "        loss2 = self._get_dice_loss(onehot_pred, onehot_target)\n",
    "        loss = loss1 + loss2\n",
    "        \n",
    "        dice_coefficient = self._get_batch_dice_coefficient(onehot_pred, onehot_target)\n",
    "        return loss, dice_coefficient\n",
    "    \n",
    "    def _get_dice_coeffient(self, pred, target):\n",
    "        set_inter = torch.dot(pred.reshape(-1).float(), target.reshape(-1).float())\n",
    "        set_sum = pred.sum() + target.sum()\n",
    "        if set_sum.item() == 0:\n",
    "            set_sum = 2 * set_inter\n",
    "        dice_coeff = (2 * set_inter) / (set_sum + 1e-9)\n",
    "        return dice_coeff\n",
    "    \n",
    "    def _get_multiclass_dice_coefficient(self, pred, target):\n",
    "        dice = 0\n",
    "        for class_index in range(1, self.num_classes):\n",
    "            dice += self._get_dice_coeffient(pred[class_index], target[class_index])\n",
    "        return dice / (self.num_classes - 1)\n",
    "    \n",
    "    def _get_batch_dice_coefficient(self, pred, target):\n",
    "        num_batch = pred.shape[0]\n",
    "        dice = 0\n",
    "        for batch_index in range(num_batch):\n",
    "            dice += self._get_multiclass_dice_coefficient(pred[batch_index], target[batch_index])\n",
    "        return dice / num_batch\n",
    "    \n",
    "    def _get_dice_loss(self, pred, target):\n",
    "        return 1 - self._get_batch_dice_coefficient(pred, target)"
   ]
  },
  {
   "cell_type": "code",
   "execution_count": 98,
   "metadata": {},
   "outputs": [
    {
     "data": {
      "text/plain": [
       "(tensor(2.2694, grad_fn=<AddBackward0>), tensor(0.0334))"
      ]
     },
     "execution_count": 98,
     "metadata": {},
     "output_type": "execute_result"
    }
   ],
   "source": [
    "criterion = UNet_metric(num_classes=4)\n",
    "criterion(predictions, targets)"
   ]
  },
  {
   "cell_type": "code",
   "execution_count": 99,
   "metadata": {},
   "outputs": [],
   "source": [
    "optimizer = torch.optim.SGD(model.parameters(), lr= 1E-3, momentum=0.9)"
   ]
  },
  {
   "cell_type": "code",
   "execution_count": 100,
   "metadata": {},
   "outputs": [],
   "source": [
    "for index, batch in enumerate(tr_dataloader):\n",
    "    images = batch[0]\n",
    "    targets = batch[1]\n",
    "    predictions = model(images)\n",
    "    criterion(predictions, targets)\n",
    "    if index == 1:\n",
    "        break"
   ]
  },
  {
   "cell_type": "markdown",
   "metadata": {},
   "source": [
    "## train"
   ]
  },
  {
   "cell_type": "markdown",
   "metadata": {},
   "source": []
  }
 ],
 "metadata": {
  "kernelspec": {
   "display_name": "Python 3.9.7 ('ppangppang')",
   "language": "python",
   "name": "python3"
  },
  "language_info": {
   "codemirror_mode": {
    "name": "ipython",
    "version": 3
   },
   "file_extension": ".py",
   "mimetype": "text/x-python",
   "name": "python",
   "nbconvert_exporter": "python",
   "pygments_lexer": "ipython3",
   "version": "3.9.7"
  },
  "orig_nbformat": 4,
  "vscode": {
   "interpreter": {
    "hash": "540344b0f56104dd127b2095bce08ee86d218da1ed9f9c0f54f4f6a1198c7eef"
   }
  }
 },
 "nbformat": 4,
 "nbformat_minor": 2
}
