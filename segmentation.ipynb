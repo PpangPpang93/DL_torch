{
 "cells": [
  {
   "cell_type": "markdown",
   "metadata": {},
   "source": [
    "## Sementic Segmentation\n",
    "- classifier와 비슷한 구조\n",
    "- encoder로 위치, 공간에 대한 특성유지시킨채로 feature extraction (No FC Layer)\n",
    "- Decoder를 통해 복원(high resolution restoration)"
   ]
  },
  {
   "cell_type": "markdown",
   "metadata": {},
   "source": [
    "- 실습내용\n",
    "    - 데이터 텐서연산\n",
    "    - U-net 아키텍처\n",
    "    - Cross-entropy, Dice Loss Funtion, SGDM\n",
    "    - Dice similarity coefficient 성능지표"
   ]
  },
  {
   "cell_type": "code",
   "execution_count": 18,
   "metadata": {},
   "outputs": [
    {
     "data": {
      "text/html": [
       "<div>\n",
       "<style scoped>\n",
       "    .dataframe tbody tr th:only-of-type {\n",
       "        vertical-align: middle;\n",
       "    }\n",
       "\n",
       "    .dataframe tbody tr th {\n",
       "        vertical-align: top;\n",
       "    }\n",
       "\n",
       "    .dataframe thead th {\n",
       "        text-align: right;\n",
       "    }\n",
       "</style>\n",
       "<table border=\"1\" class=\"dataframe\">\n",
       "  <thead>\n",
       "    <tr style=\"text-align: right;\">\n",
       "      <th></th>\n",
       "      <th>ImageId</th>\n",
       "      <th>MaskId</th>\n",
       "    </tr>\n",
       "  </thead>\n",
       "  <tbody>\n",
       "    <tr>\n",
       "      <th>0</th>\n",
       "      <td>ID00007637202177411956430_0.jpg</td>\n",
       "      <td>ID00007637202177411956430_mask_0.jpg</td>\n",
       "    </tr>\n",
       "    <tr>\n",
       "      <th>1</th>\n",
       "      <td>ID00007637202177411956430_1.jpg</td>\n",
       "      <td>ID00007637202177411956430_mask_1.jpg</td>\n",
       "    </tr>\n",
       "    <tr>\n",
       "      <th>2</th>\n",
       "      <td>ID00007637202177411956430_2.jpg</td>\n",
       "      <td>ID00007637202177411956430_mask_2.jpg</td>\n",
       "    </tr>\n",
       "    <tr>\n",
       "      <th>3</th>\n",
       "      <td>ID00007637202177411956430_3.jpg</td>\n",
       "      <td>ID00007637202177411956430_mask_3.jpg</td>\n",
       "    </tr>\n",
       "    <tr>\n",
       "      <th>4</th>\n",
       "      <td>ID00007637202177411956430_4.jpg</td>\n",
       "      <td>ID00007637202177411956430_mask_4.jpg</td>\n",
       "    </tr>\n",
       "  </tbody>\n",
       "</table>\n",
       "</div>"
      ],
      "text/plain": [
       "                           ImageId                                MaskId\n",
       "0  ID00007637202177411956430_0.jpg  ID00007637202177411956430_mask_0.jpg\n",
       "1  ID00007637202177411956430_1.jpg  ID00007637202177411956430_mask_1.jpg\n",
       "2  ID00007637202177411956430_2.jpg  ID00007637202177411956430_mask_2.jpg\n",
       "3  ID00007637202177411956430_3.jpg  ID00007637202177411956430_mask_3.jpg\n",
       "4  ID00007637202177411956430_4.jpg  ID00007637202177411956430_mask_4.jpg"
      ]
     },
     "execution_count": 18,
     "metadata": {},
     "output_type": "execute_result"
    }
   ],
   "source": [
    "import os\n",
    "import pandas as pd\n",
    "import numpy as np\n",
    "\n",
    "data_dir = '/Users/ppangppang/Desktop/팡팡팡/DS/CV'\n",
    "data_df = pd.read_csv(os.path.join(data_dir, \"train.csv\"))\n",
    "data_df.head()"
   ]
  },
  {
   "cell_type": "code",
   "execution_count": 19,
   "metadata": {},
   "outputs": [],
   "source": [
    "def extract_client_id(x):\n",
    "    return x.split(\"_\")[0]"
   ]
  },
  {
   "cell_type": "code",
   "execution_count": 20,
   "metadata": {},
   "outputs": [
    {
     "data": {
      "text/html": [
       "<div>\n",
       "<style scoped>\n",
       "    .dataframe tbody tr th:only-of-type {\n",
       "        vertical-align: middle;\n",
       "    }\n",
       "\n",
       "    .dataframe tbody tr th {\n",
       "        vertical-align: top;\n",
       "    }\n",
       "\n",
       "    .dataframe thead th {\n",
       "        text-align: right;\n",
       "    }\n",
       "</style>\n",
       "<table border=\"1\" class=\"dataframe\">\n",
       "  <thead>\n",
       "    <tr style=\"text-align: right;\">\n",
       "      <th></th>\n",
       "      <th>ImageId</th>\n",
       "      <th>MaskId</th>\n",
       "      <th>Id</th>\n",
       "    </tr>\n",
       "  </thead>\n",
       "  <tbody>\n",
       "    <tr>\n",
       "      <th>0</th>\n",
       "      <td>ID00007637202177411956430_0.jpg</td>\n",
       "      <td>ID00007637202177411956430_mask_0.jpg</td>\n",
       "      <td>ID00007637202177411956430</td>\n",
       "    </tr>\n",
       "    <tr>\n",
       "      <th>1</th>\n",
       "      <td>ID00007637202177411956430_1.jpg</td>\n",
       "      <td>ID00007637202177411956430_mask_1.jpg</td>\n",
       "      <td>ID00007637202177411956430</td>\n",
       "    </tr>\n",
       "    <tr>\n",
       "      <th>2</th>\n",
       "      <td>ID00007637202177411956430_2.jpg</td>\n",
       "      <td>ID00007637202177411956430_mask_2.jpg</td>\n",
       "      <td>ID00007637202177411956430</td>\n",
       "    </tr>\n",
       "    <tr>\n",
       "      <th>3</th>\n",
       "      <td>ID00007637202177411956430_3.jpg</td>\n",
       "      <td>ID00007637202177411956430_mask_3.jpg</td>\n",
       "      <td>ID00007637202177411956430</td>\n",
       "    </tr>\n",
       "    <tr>\n",
       "      <th>4</th>\n",
       "      <td>ID00007637202177411956430_4.jpg</td>\n",
       "      <td>ID00007637202177411956430_mask_4.jpg</td>\n",
       "      <td>ID00007637202177411956430</td>\n",
       "    </tr>\n",
       "    <tr>\n",
       "      <th>...</th>\n",
       "      <td>...</td>\n",
       "      <td>...</td>\n",
       "      <td>...</td>\n",
       "    </tr>\n",
       "    <tr>\n",
       "      <th>16703</th>\n",
       "      <td>ID00426637202313170790466_403.jpg</td>\n",
       "      <td>ID00426637202313170790466_mask_403.jpg</td>\n",
       "      <td>ID00426637202313170790466</td>\n",
       "    </tr>\n",
       "    <tr>\n",
       "      <th>16704</th>\n",
       "      <td>ID00426637202313170790466_404.jpg</td>\n",
       "      <td>ID00426637202313170790466_mask_404.jpg</td>\n",
       "      <td>ID00426637202313170790466</td>\n",
       "    </tr>\n",
       "    <tr>\n",
       "      <th>16705</th>\n",
       "      <td>ID00426637202313170790466_405.jpg</td>\n",
       "      <td>ID00426637202313170790466_mask_405.jpg</td>\n",
       "      <td>ID00426637202313170790466</td>\n",
       "    </tr>\n",
       "    <tr>\n",
       "      <th>16706</th>\n",
       "      <td>ID00426637202313170790466_406.jpg</td>\n",
       "      <td>ID00426637202313170790466_mask_406.jpg</td>\n",
       "      <td>ID00426637202313170790466</td>\n",
       "    </tr>\n",
       "    <tr>\n",
       "      <th>16707</th>\n",
       "      <td>ID00426637202313170790466_407.jpg</td>\n",
       "      <td>ID00426637202313170790466_mask_407.jpg</td>\n",
       "      <td>ID00426637202313170790466</td>\n",
       "    </tr>\n",
       "  </tbody>\n",
       "</table>\n",
       "<p>16708 rows × 3 columns</p>\n",
       "</div>"
      ],
      "text/plain": [
       "                                 ImageId  \\\n",
       "0        ID00007637202177411956430_0.jpg   \n",
       "1        ID00007637202177411956430_1.jpg   \n",
       "2        ID00007637202177411956430_2.jpg   \n",
       "3        ID00007637202177411956430_3.jpg   \n",
       "4        ID00007637202177411956430_4.jpg   \n",
       "...                                  ...   \n",
       "16703  ID00426637202313170790466_403.jpg   \n",
       "16704  ID00426637202313170790466_404.jpg   \n",
       "16705  ID00426637202313170790466_405.jpg   \n",
       "16706  ID00426637202313170790466_406.jpg   \n",
       "16707  ID00426637202313170790466_407.jpg   \n",
       "\n",
       "                                       MaskId                         Id  \n",
       "0        ID00007637202177411956430_mask_0.jpg  ID00007637202177411956430  \n",
       "1        ID00007637202177411956430_mask_1.jpg  ID00007637202177411956430  \n",
       "2        ID00007637202177411956430_mask_2.jpg  ID00007637202177411956430  \n",
       "3        ID00007637202177411956430_mask_3.jpg  ID00007637202177411956430  \n",
       "4        ID00007637202177411956430_mask_4.jpg  ID00007637202177411956430  \n",
       "...                                       ...                        ...  \n",
       "16703  ID00426637202313170790466_mask_403.jpg  ID00426637202313170790466  \n",
       "16704  ID00426637202313170790466_mask_404.jpg  ID00426637202313170790466  \n",
       "16705  ID00426637202313170790466_mask_405.jpg  ID00426637202313170790466  \n",
       "16706  ID00426637202313170790466_mask_406.jpg  ID00426637202313170790466  \n",
       "16707  ID00426637202313170790466_mask_407.jpg  ID00426637202313170790466  \n",
       "\n",
       "[16708 rows x 3 columns]"
      ]
     },
     "execution_count": 20,
     "metadata": {},
     "output_type": "execute_result"
    }
   ],
   "source": [
    "data_df[\"Id\"] = data_df.ImageId.apply(lambda x:extract_client_id(x))\n",
    "data_df"
   ]
  },
  {
   "cell_type": "code",
   "execution_count": 21,
   "metadata": {},
   "outputs": [
    {
     "name": "stdout",
     "output_type": "stream",
     "text": [
      "112\n"
     ]
    }
   ],
   "source": [
    "## client 인원 확인\n",
    "client_ids = np.unique(data_df.Id.values)\n",
    "print(len(client_ids))"
   ]
  },
  {
   "cell_type": "code",
   "execution_count": 29,
   "metadata": {},
   "outputs": [],
   "source": [
    "## 환자 1명\n",
    "index = 0\n",
    "client_data = data_df[data_df.Id == client_ids[index]][[\"ImageId\", \"MaskId\"]]"
   ]
  },
  {
   "cell_type": "code",
   "execution_count": 30,
   "metadata": {},
   "outputs": [
    {
     "data": {
      "image/png": "[encoded data removed]",
      "text/plain": [
       "<Figure size 576x432 with 2 Axes>"
      ]
     },
     "metadata": {
      "needs_background": "light"
     },
     "output_type": "display_data"
    }
   ],
   "source": [
    "import cv2\n",
    "import matplotlib.pyplot as plt\n",
    "\n",
    "sub_index = 3\n",
    "img_name, mask_name = client_data.iloc[sub_index].values\n",
    "img_path, mask_path = os.path.join(data_dir, \"images\", img_name), os.path.join(data_dir, \"masks\", mask_name)\n",
    "image = cv2.imread(img_path)\n",
    "mask = cv2.imread(mask_path)\n",
    "thres = 240\n",
    "mask[mask < thres] = 0\n",
    "mask[mask >= thres] = 255\n",
    "\n",
    "plt.figure(figsize=(8,6))\n",
    "plt.subplot(121)\n",
    "plt.title(\"image\")\n",
    "plt.imshow(image)\n",
    "plt.subplot(122)\n",
    "plt.title(\"mask\")\n",
    "plt.imshow(mask)\n",
    "plt.tight_layout()"
   ]
  },
  {
   "cell_type": "code",
   "execution_count": 31,
   "metadata": {},
   "outputs": [],
   "source": [
    "def get_client_data(data_df, index):\n",
    "    client_ids = np.unique(data_df.Id.values)\n",
    "    client_id = client_ids[index]\n",
    "    client_data = data_df[data_df.Id == client_id]\n",
    "    image_files = list(client_data[\"ImageId\"])\n",
    "    mask_files = list(client_data[\"MaskId\"])\n",
    "    return client_id, image_files, mask_files"
   ]
  },
  {
   "cell_type": "code",
   "execution_count": 32,
   "metadata": {},
   "outputs": [],
   "source": [
    "regions = [\"background\", \"trachea\", \"heart\", \"lung\"]\n",
    "colors = ((0,0,0), (255, 0, 0), (0, 255, 0), (0, 0, 255))"
   ]
  },
  {
   "cell_type": "code",
   "execution_count": 38,
   "metadata": {},
   "outputs": [],
   "source": [
    "## image 영상으로재생\n",
    "\n",
    "index = 0\n",
    "client_id, image_files, mask_files = get_client_data(data_df, index)\n",
    "\n",
    "canvas = np.zeros(shape=(512, 2*512+50, 3), dtype=np.uint8)\n",
    "for i in range(len(image_files)):\n",
    "    image = cv2.imread(os.path.join(data_dir, \"images\", image_files[i]))\n",
    "    image = cv2.cvtColor(image, cv2.COLOR_BGR2RGB)\n",
    "    mask = cv2.imread(os.path.join(data_dir, \"masks\", mask_files[i]))\n",
    "    mask = cv2.cvtColor(mask, cv2.COLOR_BGR2RGB)\n",
    "    thres = 240\n",
    "    mask[mask < thres] = 0\n",
    "    mask[mask >= thres] = 255\n",
    "    grid_pad = 50\n",
    "    \n",
    "    canvas[:, :512, :] = image\n",
    "    canvas[:, 512+grid_pad:2*512+grid_pad, :] = mask\n",
    "    \n",
    "    text_buff = 410\n",
    "    for j in range(1, len(regions)):\n",
    "        cv2.putText(canvas, f'{regions[j].upper()}', (900, text_buff), cv2.FONT_HERSHEY_SIMPLEX, 1, colors[j], 2)\n",
    "        text_buff += 40\n",
    "    \n",
    "    cv2.imshow('CT frames', canvas)\n",
    "    key = cv2.waitKey(60)\n",
    "    if key == 27:\n",
    "        break\n",
    "cv2.destroyAllWindows()"
   ]
  },
  {
   "cell_type": "markdown",
   "metadata": {},
   "source": [
    "### 데이터셋 준비"
   ]
  },
  {
   "cell_type": "markdown",
   "metadata": {},
   "source": [
    "- train.csv에 있는 데이터 trian으로 옮기기\n",
    "- train\n",
    "    - images\n",
    "    - masks\n",
    "- test\n",
    "    - images\n",
    "    - masks    "
   ]
  },
  {
   "cell_type": "code",
   "execution_count": null,
   "metadata": {},
   "outputs": [],
   "source": []
  },
  {
   "cell_type": "code",
   "execution_count": 39,
   "metadata": {},
   "outputs": [],
   "source": [
    "import torch\n",
    "from torchvision import transforms\n",
    "from torch.utils.data import DataLoader\n",
    "\n",
    "IMAGE_SIZE = 224\n",
    "\n",
    "class CT_dataset():\n",
    "    def __init__(self, data_dir, phase, transformer=None):\n",
    "        self.phase = phase\n",
    "        self.images_dir = os.path.join(data_dir, phase, \"images\")\n",
    "        self.masks_dir = os.path.join(data_dir, phase, \"masks\")\n",
    "        self.image_files = [filename for filename in os.listdir(self.images_dir) if filename.endswith(\"jpg\")]\n",
    "        self.mask_files = [filename for filename in os.listdir(self.masks_dir) if filename.endswith(\"jpg\")]\n",
    "        assert len(self.image_files) == len(self.mask_files)\n",
    "        \n",
    "        self.transformer = transformer\n",
    "    \n",
    "    def __len__(self):\n",
    "        return len(self.image_files)\n",
    "    \n",
    "    def __getitem__(self, index):\n",
    "        image = cv2.imread(os.path.join(self.images_dir, self.image_files[index]))\n",
    "        image = cv2.resize(image, dsize=(IMAGE_SIZE,IMAGE_SIZE), interpolation=cv2.INTER_LINEAR)\n",
    "        mask = cv2.imread(os.path.join(self.masks_dir, self.mask_files[index]))\n",
    "        mask = cv2.resize(mask, dsize=(IMAGE_SIZE,IMAGE_SIZE), interpolation=cv2.INTER_NEAREST)\n",
    "        mask[mask < 240] = 0\n",
    "        mask[mask >= 240] = 255\n",
    "        mask = mask / 255\n",
    "        \n",
    "        mask_H, mask_W, mask_C = mask.shape\n",
    "        background = np.ones(shape=(mask_H, mask_W))\n",
    "        background[mask[...,0] != 0] = 0\n",
    "        background[mask[...,1] != 0] = 0\n",
    "        background[mask[...,2] != 0] = 0\n",
    "        mask = np.concatenate([np.expand_dims(background, -1), mask], axis=-1)\n",
    "        mask = np.argmax(mask, axis=-1, keepdims=False)\n",
    "        \n",
    "        if self.transformer:\n",
    "            image = self.transformer(image)\n",
    "        target = torch.from_numpy(mask).long()\n",
    "        return image, target"
   ]
  },
  {
   "cell_type": "code",
   "execution_count": 40,
   "metadata": {},
   "outputs": [],
   "source": [
    "def build_transformer():\n",
    "    transformer = transforms.Compose([\n",
    "        transforms.ToTensor(),\n",
    "        transforms.Normalize([0.485, 0.456, 0.406], [0.229, 0.224, 0.225])\n",
    "    ])\n",
    "    return transformer"
   ]
  },
  {
   "cell_type": "code",
   "execution_count": 41,
   "metadata": {},
   "outputs": [],
   "source": [
    "def collate_fn(batch):\n",
    "    images = []\n",
    "    targets = []\n",
    "    for a, b in batch: \n",
    "        images.append(a)\n",
    "        targets.append(b)\n",
    "    images = torch.stack(images, dim=0) \n",
    "    targets = torch.stack(targets, dim=0)\n",
    "\n",
    "    return images, targets"
   ]
  },
  {
   "cell_type": "code",
   "execution_count": 42,
   "metadata": {},
   "outputs": [
    {
     "ename": "FileNotFoundError",
     "evalue": "[Errno 2] No such file or directory: '/Users/ppangppang/Desktop/팡팡팡/DS/CV/train/images'",
     "output_type": "error",
     "traceback": [
      "\u001b[0;31m---------------------------------------------------------------------------\u001b[0m",
      "\u001b[0;31mFileNotFoundError\u001b[0m                         Traceback (most recent call last)",
      "\u001b[0;32m/var/folders/c0/q_ltjrb55gzc5wvhsv7s_vsh0000gn/T/ipykernel_42551/3576579063.py\u001b[0m in \u001b[0;36m<module>\u001b[0;34m\u001b[0m\n\u001b[1;32m      1\u001b[0m \u001b[0mdata_dir\u001b[0m \u001b[0;34m=\u001b[0m \u001b[0;34m'/Users/ppangppang/Desktop/팡팡팡/DS/CV'\u001b[0m\u001b[0;34m\u001b[0m\u001b[0;34m\u001b[0m\u001b[0m\n\u001b[1;32m      2\u001b[0m \u001b[0mtransformer\u001b[0m \u001b[0;34m=\u001b[0m \u001b[0mbuild_transformer\u001b[0m\u001b[0;34m(\u001b[0m\u001b[0;34m)\u001b[0m\u001b[0;34m\u001b[0m\u001b[0;34m\u001b[0m\u001b[0m\n\u001b[0;32m----> 3\u001b[0;31m \u001b[0mtr_dataset\u001b[0m \u001b[0;34m=\u001b[0m \u001b[0mCT_dataset\u001b[0m\u001b[0;34m(\u001b[0m\u001b[0mdata_dir\u001b[0m\u001b[0;34m=\u001b[0m\u001b[0mdata_dir\u001b[0m\u001b[0;34m,\u001b[0m \u001b[0mphase\u001b[0m\u001b[0;34m=\u001b[0m\u001b[0;34m\"train\"\u001b[0m\u001b[0;34m,\u001b[0m \u001b[0mtransformer\u001b[0m\u001b[0;34m=\u001b[0m\u001b[0mtransformer\u001b[0m\u001b[0;34m)\u001b[0m\u001b[0;34m\u001b[0m\u001b[0;34m\u001b[0m\u001b[0m\n\u001b[0m\u001b[1;32m      4\u001b[0m \u001b[0mval_dataset\u001b[0m \u001b[0;34m=\u001b[0m \u001b[0mCT_dataset\u001b[0m\u001b[0;34m(\u001b[0m\u001b[0mdata_dir\u001b[0m\u001b[0;34m=\u001b[0m\u001b[0mdata_dir\u001b[0m\u001b[0;34m,\u001b[0m \u001b[0mphase\u001b[0m\u001b[0;34m=\u001b[0m\u001b[0;34m\"val\"\u001b[0m\u001b[0;34m,\u001b[0m \u001b[0mtransformer\u001b[0m\u001b[0;34m=\u001b[0m\u001b[0mtransformer\u001b[0m\u001b[0;34m)\u001b[0m\u001b[0;34m\u001b[0m\u001b[0;34m\u001b[0m\u001b[0m\n\u001b[1;32m      5\u001b[0m \u001b[0mtr_dataloader\u001b[0m \u001b[0;34m=\u001b[0m \u001b[0mDataLoader\u001b[0m\u001b[0;34m(\u001b[0m\u001b[0mtr_dataset\u001b[0m\u001b[0;34m,\u001b[0m \u001b[0mbatch_size\u001b[0m\u001b[0;34m=\u001b[0m\u001b[0;36m4\u001b[0m\u001b[0;34m,\u001b[0m \u001b[0mshuffle\u001b[0m\u001b[0;34m=\u001b[0m\u001b[0;32mTrue\u001b[0m\u001b[0;34m,\u001b[0m \u001b[0mcollate_fn\u001b[0m\u001b[0;34m=\u001b[0m\u001b[0mcollate_fn\u001b[0m\u001b[0;34m)\u001b[0m\u001b[0;34m\u001b[0m\u001b[0;34m\u001b[0m\u001b[0m\n",
      "\u001b[0;32m/var/folders/c0/q_ltjrb55gzc5wvhsv7s_vsh0000gn/T/ipykernel_42551/1978256097.py\u001b[0m in \u001b[0;36m__init__\u001b[0;34m(self, data_dir, phase, transformer)\u001b[0m\n\u001b[1;32m     10\u001b[0m         \u001b[0mself\u001b[0m\u001b[0;34m.\u001b[0m\u001b[0mimages_dir\u001b[0m \u001b[0;34m=\u001b[0m \u001b[0mos\u001b[0m\u001b[0;34m.\u001b[0m\u001b[0mpath\u001b[0m\u001b[0;34m.\u001b[0m\u001b[0mjoin\u001b[0m\u001b[0;34m(\u001b[0m\u001b[0mdata_dir\u001b[0m\u001b[0;34m,\u001b[0m \u001b[0mphase\u001b[0m\u001b[0;34m,\u001b[0m \u001b[0;34m\"images\"\u001b[0m\u001b[0;34m)\u001b[0m\u001b[0;34m\u001b[0m\u001b[0;34m\u001b[0m\u001b[0m\n\u001b[1;32m     11\u001b[0m         \u001b[0mself\u001b[0m\u001b[0;34m.\u001b[0m\u001b[0mmasks_dir\u001b[0m \u001b[0;34m=\u001b[0m \u001b[0mos\u001b[0m\u001b[0;34m.\u001b[0m\u001b[0mpath\u001b[0m\u001b[0;34m.\u001b[0m\u001b[0mjoin\u001b[0m\u001b[0;34m(\u001b[0m\u001b[0mdata_dir\u001b[0m\u001b[0;34m,\u001b[0m \u001b[0mphase\u001b[0m\u001b[0;34m,\u001b[0m \u001b[0;34m\"masks\"\u001b[0m\u001b[0;34m)\u001b[0m\u001b[0;34m\u001b[0m\u001b[0;34m\u001b[0m\u001b[0m\n\u001b[0;32m---> 12\u001b[0;31m         \u001b[0mself\u001b[0m\u001b[0;34m.\u001b[0m\u001b[0mimage_files\u001b[0m \u001b[0;34m=\u001b[0m \u001b[0;34m[\u001b[0m\u001b[0mfilename\u001b[0m \u001b[0;32mfor\u001b[0m \u001b[0mfilename\u001b[0m \u001b[0;32min\u001b[0m \u001b[0mos\u001b[0m\u001b[0;34m.\u001b[0m\u001b[0mlistdir\u001b[0m\u001b[0;34m(\u001b[0m\u001b[0mself\u001b[0m\u001b[0;34m.\u001b[0m\u001b[0mimages_dir\u001b[0m\u001b[0;34m)\u001b[0m \u001b[0;32mif\u001b[0m \u001b[0mfilename\u001b[0m\u001b[0;34m.\u001b[0m\u001b[0mendswith\u001b[0m\u001b[0;34m(\u001b[0m\u001b[0;34m\"jpg\"\u001b[0m\u001b[0;34m)\u001b[0m\u001b[0;34m]\u001b[0m\u001b[0;34m\u001b[0m\u001b[0;34m\u001b[0m\u001b[0m\n\u001b[0m\u001b[1;32m     13\u001b[0m         \u001b[0mself\u001b[0m\u001b[0;34m.\u001b[0m\u001b[0mmask_files\u001b[0m \u001b[0;34m=\u001b[0m \u001b[0;34m[\u001b[0m\u001b[0mfilename\u001b[0m \u001b[0;32mfor\u001b[0m \u001b[0mfilename\u001b[0m \u001b[0;32min\u001b[0m \u001b[0mos\u001b[0m\u001b[0;34m.\u001b[0m\u001b[0mlistdir\u001b[0m\u001b[0;34m(\u001b[0m\u001b[0mself\u001b[0m\u001b[0;34m.\u001b[0m\u001b[0mmasks_dir\u001b[0m\u001b[0;34m)\u001b[0m \u001b[0;32mif\u001b[0m \u001b[0mfilename\u001b[0m\u001b[0;34m.\u001b[0m\u001b[0mendswith\u001b[0m\u001b[0;34m(\u001b[0m\u001b[0;34m\"jpg\"\u001b[0m\u001b[0;34m)\u001b[0m\u001b[0;34m]\u001b[0m\u001b[0;34m\u001b[0m\u001b[0;34m\u001b[0m\u001b[0m\n\u001b[1;32m     14\u001b[0m         \u001b[0;32massert\u001b[0m \u001b[0mlen\u001b[0m\u001b[0;34m(\u001b[0m\u001b[0mself\u001b[0m\u001b[0;34m.\u001b[0m\u001b[0mimage_files\u001b[0m\u001b[0;34m)\u001b[0m \u001b[0;34m==\u001b[0m \u001b[0mlen\u001b[0m\u001b[0;34m(\u001b[0m\u001b[0mself\u001b[0m\u001b[0;34m.\u001b[0m\u001b[0mmask_files\u001b[0m\u001b[0;34m)\u001b[0m\u001b[0;34m\u001b[0m\u001b[0;34m\u001b[0m\u001b[0m\n",
      "\u001b[0;31mFileNotFoundError\u001b[0m: [Errno 2] No such file or directory: '/Users/ppangppang/Desktop/팡팡팡/DS/CV/train/images'"
     ]
    }
   ],
   "source": [
    "data_dir = '/Users/ppangppang/Desktop/팡팡팡/DS/CV'\n",
    "transformer = build_transformer()\n",
    "tr_dataset = CT_dataset(data_dir=data_dir, phase=\"train\", transformer=transformer)\n",
    "val_dataset = CT_dataset(data_dir=data_dir, phase=\"val\", transformer=transformer)\n",
    "tr_dataloader = DataLoader(tr_dataset, batch_size=4, shuffle=True, collate_fn=collate_fn)\n",
    "val_dataloader = DataLoader(val_dataset, batch_size=1, shuffle=False, collate_fn=collate_fn)"
   ]
  },
  {
   "cell_type": "code",
   "execution_count": null,
   "metadata": {},
   "outputs": [],
   "source": []
  }
 ],
 "metadata": {
  "kernelspec": {
   "display_name": "Python 3.9.7 ('ppangppang')",
   "language": "python",
   "name": "python3"
  },
  "language_info": {
   "codemirror_mode": {
    "name": "ipython",
    "version": 3
   },
   "file_extension": ".py",
   "mimetype": "text/x-python",
   "name": "python",
   "nbconvert_exporter": "python",
   "pygments_lexer": "ipython3",
   "version": "3.9.7"
  },
  "orig_nbformat": 4,
  "vscode": {
   "interpreter": {
    "hash": "540344b0f56104dd127b2095bce08ee86d218da1ed9f9c0f54f4f6a1198c7eef"
   }
  }
 },
 "nbformat": 4,
 "nbformat_minor": 2
}
